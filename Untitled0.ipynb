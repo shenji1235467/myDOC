{
  "nbformat": 4,
  "nbformat_minor": 0,
  "metadata": {
    "colab": {
      "provenance": [],
      "authorship_tag": "ABX9TyN7oppZuDW1NzvHPoanJL9x",
      "include_colab_link": true
    },
    "kernelspec": {
      "name": "python3",
      "display_name": "Python 3"
    },
    "language_info": {
      "name": "python"
    }
  },
  "cells": [
    {
      "cell_type": "markdown",
      "metadata": {
        "id": "view-in-github",
        "colab_type": "text"
      },
      "source": [
        "<a href=\"https://colab.research.google.com/github/shenji1235467/myDOC/blob/main/Untitled0.ipynb\" target=\"_parent\"><img src=\"https://colab.research.google.com/assets/colab-badge.svg\" alt=\"Open In Colab\"/></a>"
      ]
    },
    {
      "cell_type": "code",
      "execution_count": null,
      "metadata": {
        "id": "kb_vRAhyciqD"
      },
      "outputs": [],
      "source": []
    },
    {
      "cell_type": "markdown",
      "source": [
        "# 说明\n",
        "需要对HANA一体机的某一部件，比如硬盘、内存或者某组件的固件，进行维修、升级等操作的时候，需要遵循恰当的停机、开机步骤，以保证HANA系统，特别是文件系统的状态正常，从而保护客户的数据安全。\n",
        "本文档描述了HANA一体机的维护窗口期，如何恰当地进行停机开机等操作。本文档适用于联想HANA一体机机型。\n",
        "本文档提到的\"< sid >adm\"用户，请将HANA实例的SID变换为小写，替换\"< sid >\"。\n",
        "\n",
        "\n",
        "\n"
      ],
      "metadata": {
        "id": "OGUjmXmKdNGG"
      }
    },
    {
      "cell_type": "markdown",
      "source": [
        "\n",
        "### 停止顺序\n",
        "> 关闭APP应用/集群\n",
        ">> - 关闭S4PRD02->S4PRD03->S4PRD04\n",
        "\n",
        "> 关闭DB应用集群(HAE)\n",
        ">>  - 关闭HANAPRD1\n",
        ">>  - 关闭HANAPRD2\n",
        "\n",
        "\n",
        "### 启动顺序\n",
        "> 启动DB应用集群(HAE)\n",
        ">>  - 启动HANAPRD1\n",
        ">>  - 启动HANAPRD2\n",
        "\n",
        "> 启动APP应用/集群\n",
        ">> - 启动S4PRD02->S4PRD03->S4PRD04\n"
      ],
      "metadata": {
        "id": "xo_qRYa46SBN"
      }
    },
    {
      "cell_type": "markdown",
      "source": [
        "# APP应用的维护\n",
        "## 1.1. 停机操作：\n",
        "### 1.1\t关机：\n",
        "- 1.\t通过  < sid >adm 登陆：\n",
        "`su - < sid >adm`\n",
        "- 2.\t查询应用服务器状态\n",
        "`sapcontrol -nr 00 -function GetProcessList`\n",
        "- 3.\t关闭应用服务\n",
        " `sapcontrol -nr 00 -function StoptSystem`\n",
        " - 4.\t退出管理账号关闭系统： shutdown -h now\n",
        "\n",
        "### 1.2\t开机\n",
        "打开服务器电源等带系统启动：\n",
        "- 1.\t通过  < sid >adm 登陆：\n",
        "`su - < sid >adm`\n",
        "- 2.\t启动应用服务\n",
        "`sapcontrol -nr 00 -function StartSystem`\n",
        "- 3.\t查询应用服务器状态\n",
        "`sapcontrol -nr 00 -function GetProcessList`\n"
      ],
      "metadata": {
        "id": "EmqG_SxE6aLV"
      }
    },
    {
      "cell_type": "markdown",
      "source": [
        "\n",
        "# HAE（pacemaker） 模式HANA一体机的维护\n",
        "## 2.1.\t停机操作（集群停机时）：\n",
        "停止HANA数据库前建议对数据库进行全部并将备份数据脱机保存。\n",
        "### 停机步骤：\n",
        "#### 1.\t将SUSE HA集群置为维护模式。\n",
        "- 通过 root 用户执行：`crm configure property maintenance-mode=true`\n",
        "或再 hawk中进行配置：\n",
        "\n",
        "#### 2.\t停止备节点数据库：\n",
        "-  在备节点进入数据库管理账号执行：\n",
        "-- `su - < sid >adm`\n",
        "`HDB stop`\n",
        "- 退出管理账号关闭系统：\n",
        "`shutdown -h now`\n",
        "#### 3.\t停止主节点数据库：\n",
        "- 在主节点进入数据库管理账号执行：\n",
        "`su - < sid>adm`\n",
        "`HDB stop`\n",
        "- 退出管理账号关闭系统：\n",
        "`shutdown -h now`\n",
        "\n",
        "## 2.2.\t开机操作（集群开机时）：\n",
        "#### 1.\t打开主节点电源等系统启动。\n",
        "开机启动参数调整:\n",
        "- hp1adm@HANAPRD02:/usr/sap/HP1/HDB00> cdpro `\n",
        "- hp1adm@HANAPRD02:/usr/sap/HP1/SYS/profile> vim HP1_HDB00_hanaprd02`\n",
        "\n",
        "如果HDB 数据库未自动启动则需要通过 <sid>adm 启动数据库：\n",
        "- su - < sid >adm\n",
        "- HDB start\n",
        "\n",
        "#### 2.\t打开备机电源等系统启动\n",
        "如果HDB 数据库未自动启动则需要通过 <sid>adm 启动数据库：\n",
        "- su - < sid >adm\n",
        "- HDB start\n",
        "\n",
        "#### 3.\t查看下sr状态是否正常\n",
        "\n",
        "#### 4.\t检查下pacemaker服务：\n",
        "\n",
        "- `systemctl status pacemaker.service`\n",
        "如果需要开启pacemaker服务执行：\n",
        "- `systemctl start pacemaker.service`\n",
        "#### 5.\t将SUSE HA 取消维护模式：\n",
        "通过 root在任意节点执行：\n",
        "- `crm configure property maintenance-mode=false`\n",
        "或到 hawk中将：maintenance-mode 设置为 no.\n",
        "\n",
        "## 2.3.\t主备切换（主机需要停机维护时）：\n",
        "1.\t通过 hana studio 或 python systemReplicationStatus.py 检查 所有同步数据均为 active。\n",
        "2.\t建议备份主服务器数据进行脱机保存。\n",
        "3.\t在hawk 中将主节点至为standby 或将msl_SAPhana_<SID>_HDB00资源进行 migrate。\n",
        "4.\t等服务进行切换，切换完成后取消 standby 状态或将资源设置 clear。\n",
        "5.\t主备节点服务器启动完成后，如果HA配置为自动注册则SR关系恢复，如果为非自动注册则 SR关系需手动建立。\n",
        "在备节点执行：\n",
        "- `su - < sid>adm`\n",
        "- `cd ~/sr_script`\n",
        "- `./sr_register.sh`\n",
        "6.\t通过 hana studio界面查看SR复制关系是否正常。\n",
        "## 2.4.\t集群中单节点维护（硬件故障或者单节点停机）：\n",
        "1.\t如果需维护节点为备用节点则执行下面操作：\n",
        "- a)\t参照2.1单元中操作将集群至为维护模式。\n",
        "- b)\t关闭数据库服务。\n",
        "- c)\t关闭系统。\n",
        "2.\t如果需维护节点为主节点则需要进行如下此操作：\n",
        "- a)\t备份数据库并将数据脱机保存。\n",
        "- b)\t在 参照2.3单元进行数据服务切换。\n",
        "- c)\t切换完成后将当前维护节点进行关机维护。\n",
        "- d)\t启动后在根据 1.3.4中内容对环境进行恢复。\n",
        "\n",
        "## 3\t单节点 HANA维护（硬件故障或者停机）：\n",
        "### 1.1\t关机：\n",
        "1.\t通过  <sid>adm 关闭数据库：\n",
        "`su - <sid>adm`\n",
        "2.\t关闭HANA数据库\n",
        " `HDB stop`\n",
        "3.\t关闭操作系统\n",
        "`shutdown -h now`\n",
        "\n",
        "### 1.2\t开机\n",
        "打开服务器电源等带系统启动，如过 数据库未自动启动则需要到 `< sid >adm` 下启动数据库：\n",
        "- `HDB  start`\n",
        "\n",
        "## 4.\tSR命令说明：\n",
        "\n",
        "### 查看SR状态：\n",
        "hdbnsutil -sr_state  \n",
        "### 主节点启动SR：\n",
        "hdbnsutil -sr_enable --name= hanaprd01\n",
        "### 备节点注册：\n",
        "hdbnsutil -sr_register --remoteHost= hanaprd01--remoteInstance=00  --replicationMode=sync --name= hanaprd02--operationMode=logreplay_readaccess --online\n",
        "\n",
        "## 5.\tHA界面信息说明：\n",
        "\n",
        "\n",
        "第一栏为SAP HANA拓扑结构的状态；\n",
        "第二栏为主机承载的HANA数据库服务，为最主要的服务；\n",
        "第三栏为虚拟IP资源所在的主机；\n",
        "第四栏和第五栏分别是带外XCC资源，2台机器互相监控，断开不影响业务，但是会影响到fence；"
      ],
      "metadata": {
        "id": "OEGE-CUn6rg-"
      }
    }
  ]
}